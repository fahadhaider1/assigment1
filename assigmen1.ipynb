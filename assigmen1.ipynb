{
 "cells": [
  {
   "cell_type": "code",
   "execution_count": null,
   "id": "9110b29e-84d1-4a82-b3b8-f367d0db9095",
   "metadata": {},
   "outputs": [],
   "source": [
    "1.who development pyton programming language?\n",
    "ans When he began implementing Python, Guido van Rossum was also reading the published scripts from “Monty Python's Flying Circus”, a BBC comedy series from the 1970s. Van Rossum thought he needed a name that was short, unique, and slightly mysterious, so he decided to call the language Python"
   ]
  },
  {
   "cell_type": "code",
   "execution_count": null,
   "id": "439fa920-f53c-4c32-9c58-981d7b60fbb6",
   "metadata": {},
   "outputs": [],
   "source": [
    "2.which type of programming does python support?\n",
    "ans. Python is a multi-paradigm programming language. Object-oriented programming and structured programming are fully supported, and many of their features support functional programming and aspect-oriented programming (including metaprogramming and metaobjects"
   ]
  },
  {
   "cell_type": "code",
   "execution_count": null,
   "id": "9f6abc0d-726e-4293-bfe7-15f654aaa0e5",
   "metadata": {},
   "outputs": [],
   "source": [
    "3.is python case sensitive when deadling with identifiers?\n",
    "ans. es, Python is a case-sensitive language, i.e., it treats uppercase and lowercase characters differently. This applies to identifiers too. You must avoid using the same name with different cases while naming identifiers\n"
   ]
  },
  {
   "cell_type": "code",
   "execution_count": null,
   "id": "eefd0a40-3d21-4e99-8263-62831d7d7ec3",
   "metadata": {},
   "outputs": [],
   "source": [
    "4. what is the correct extension of the python file?\n",
    "ans. Python file extensions are\n",
    "\n",
    ".py\n",
    ".pyi\n",
    ".pyc\n",
    ".pyd\n",
    ".pyo\n",
    ".pyw\n",
    ".pyz\n",
    "Python is a general-purpose coding language—which means that, unlike HTML, CSS, and JavaScript, it can be used for other types of programming and software development besides web development. That includes back end development, software development, data science and writing system scripts among other things."
   ]
  },
  {
   "cell_type": "code",
   "execution_count": null,
   "id": "c571f05a-9fdc-43d2-ac42-16b900902c66",
   "metadata": {},
   "outputs": [],
   "source": [
    "5. is python code compiled or interpreted?\n",
    "ans. Python is an interpreted language, which means the source code of a Python program is converted into bytecode that is then executed by the Python virtual machine. Python is different from major compiled languages, such as C and C + +, as Python code is not required to be built and linked like code for these languages."
   ]
  },
  {
   "cell_type": "code",
   "execution_count": null,
   "id": "dc97671b-eb64-440c-a479-f416c743bf17",
   "metadata": {},
   "outputs": [],
   "source": [
    "6.name a few block of code used to define in python language?\n",
    "ans. Indentation is used to define a block of code in python. Braces {} are used to define a block of code in most programming languages, like C, C++, and Java. But this indentation makes python unique among all programming languages"
   ]
  },
  {
   "cell_type": "code",
   "execution_count": null,
   "id": "3b34429b-d7d3-45a7-8c77-a9431db240a3",
   "metadata": {},
   "outputs": [],
   "source": [
    "7. state a character used to give single line comment in python?\n",
    "ans. Hash character(#) is used to comment the line in the Python program. Comments does not have to be text to explain the code, it can also be used to prevent Python from executing code. The hash character should be placed before the line to be commented"
   ]
  },
  {
   "cell_type": "code",
   "execution_count": null,
   "id": "da52779d-fd4a-46da-ab8a-5c077083a198",
   "metadata": {},
   "outputs": [],
   "source": [
    "8. mention function which can help us to find the version of python that we are currently work on?\n",
    "ans.  Which of the following functions can help us to find the version of python that we are currently working on? Explanation: The function sys. version can help us to find the version of python that we are currently working on"
   ]
  },
  {
   "cell_type": "code",
   "execution_count": null,
   "id": "3ef74578-1f2d-4085-865e-1a3a6d180a37",
   "metadata": {},
   "outputs": [],
   "source": [
    "9. python supports the creation of anonymous function at runtime, using a construct called?\n",
    "ans. Python supports to make anonymous functions which are not bound to a name(@ runtime). It uses a construct called \"lambda\""
   ]
  },
  {
   "cell_type": "code",
   "execution_count": null,
   "id": "763b5d41-42ea-46b4-91b5-74ea6ec62eb4",
   "metadata": {},
   "outputs": [],
   "source": [
    "10. what does pip stand for python?\n",
    "ans. Alternatively, pip stands for \"preferred installer program\". Python 2.7. 9 and later (on the python2 series), and Python 3.4 and later include pip (pip3 for Python 3) by default"
   ]
  },
  {
   "cell_type": "code",
   "execution_count": null,
   "id": "25fc259a-e4e6-4b6a-98ff-7687411ee4e1",
   "metadata": {},
   "outputs": [],
   "source": [
    "11. mention a few built in function in python?\n",
    "ans. print( ) function\n",
    "type( ) function\n",
    "input( ) function\n",
    "abs( ) function\n",
    "pow( ) function\n",
    "dir( ) function\n",
    "sorted( ) function\n",
    "max( ) function\n",
    "round( ) function\n",
    "divmod( ) function\n",
    "id( ) function\n",
    "ord( ) function\n",
    "len( ) function\n",
    "sum( ) function\n",
    "help( ) function"
   ]
  },
  {
   "cell_type": "code",
   "execution_count": null,
   "id": "e1328f6a-67ad-45a8-b366-a46543236230",
   "metadata": {},
   "outputs": [],
   "source": [
    "12. what is the maximum possible  length of an identifier in python?\n",
    "ans.  An identifier can have a maximum length of 79 characters in Python. Python is one of the most popular programming languages"
   ]
  },
  {
   "cell_type": "code",
   "execution_count": null,
   "id": "81f772ab-5947-4baf-a212-fd3b226486a6",
   "metadata": {},
   "outputs": [],
   "source": [
    "13. what are the benefits of using python?\n",
    "ans. Python programming is powering the global job market because the benefits of Python are clear. Python is one of the top three programming languages in the world, and is poised to become the most popular, according to ZDNet. In fact, according to the PYPL Index, Python is the most popular programming language world-wide, so if you want to work in a different country, you have a good chance of landing a job in, say, Switzerland or Australia. Where would you like to work? Adding Python to your skill set could be your ticket to anywhere.\n",
    "\n",
    "Also, Python programming is a general-purpose skill used in almost all fields, including: \n",
    "\n",
    "Data science\n",
    "Scientific and mathematical computing\n",
    "Web development\n",
    "Finance and trading\n",
    "System automation and administration\n",
    "Computer graphics\n",
    "Basic game development\n",
    "Security and penetration testing\n",
    "General and application-specific scripting\n",
    "Mapping and geography (GIS software)\n",
    "Thus, if you learn Python, you’ll have more job opportunities than you can imagine — at home or abroad. What field do you prefer? Data science is all the rage, but options like game development, finance and trading, security and penetration testing, and network mapping and geography are other potentially exciting possibilities. It’s your choice how you leverage the benefits of Python"
   ]
  },
  {
   "cell_type": "code",
   "execution_count": null,
   "id": "c9d44a64-0d65-4aa4-8afd-8795df76e37e",
   "metadata": {},
   "outputs": [],
   "source": [
    "14. how is memory managed in python?\n",
    "ans. Memory management in Python involves a private heap containing all Python objects and data structures. The management of this private heap is ensured internally by the Python memory manager"
   ]
  },
  {
   "cell_type": "code",
   "execution_count": null,
   "id": "bebf6528-c6a5-4643-bb4e-32afc2f6f600",
   "metadata": {},
   "outputs": [],
   "source": [
    "15. how to install python on window and set path variables?\n",
    "ans. The PATH variable is a list of directories where each directory contains the executable file for a command.\n",
    "\n",
    "When a command is entered into the Windows command prompt, the prompt searches in the PATH variable for an executable file with the same name as the command; i​n the case that the required file is not found, it responds with an error message that states that​ the specified command was not recognized.\n",
    "\n",
    "\n",
    "svg viewer\n",
    "\n",
    "One way to overcome this error is to write the complete directory of the executable file instead of only entering the command name. However, this is not a very user-friendly approach.\n",
    "\n",
    "Another possible, and easier, way to avoid this error is to add the executable file’s directory to the PATH variable. Oftentimes, this needs to be done when installing Python.\n",
    "\n",
    "The complete path of python.exe can be added by:\n",
    "\n",
    "Right-clicking This PC and going to Properties.\n",
    "\n",
    "Clicking on the Advanced system settings in the menu on the left.\n",
    "\n",
    "Clicking on the Environment Variables button o​n the bottom right.\n",
    "\n",
    "In the System variables section, selecting the Path variable and clicking on Edit. The next screen will show all the directories that are currently a part of the PATH variable.\n",
    "\n",
    "Clicking on New and entering Python’s install directory.\n",
    "\n",
    "Python can now be used directly from the command prompt without having to write its location. Try executing the command python --version; it will output the version of Python installed on your system"
   ]
  },
  {
   "cell_type": "code",
   "execution_count": null,
   "id": "2b6c1c23-98d3-4797-9c66-de0f19d55ca9",
   "metadata": {},
   "outputs": [],
   "source": [
    "16. is indentation required in python?\n",
    "ans. "
   ]
  }
 ],
 "metadata": {
  "kernelspec": {
   "display_name": "Python 3 (ipykernel)",
   "language": "python",
   "name": "python3"
  },
  "language_info": {
   "codemirror_mode": {
    "name": "ipython",
    "version": 3
   },
   "file_extension": ".py",
   "mimetype": "text/x-python",
   "name": "python",
   "nbconvert_exporter": "python",
   "pygments_lexer": "ipython3",
   "version": "3.10.8"
  }
 },
 "nbformat": 4,
 "nbformat_minor": 5
}
